{
 "cells": [
  {
   "cell_type": "code",
   "execution_count": 1,
   "metadata": {},
   "outputs": [
    {
     "name": "stdout",
     "output_type": "stream",
     "text": [
      "WARNING:tensorflow:From c:\\Users\\Admin\\miniconda3\\envs\\stenv\\lib\\site-packages\\keras\\src\\losses.py:2976: The name tf.losses.sparse_softmax_cross_entropy is deprecated. Please use tf.compat.v1.losses.sparse_softmax_cross_entropy instead.\n",
      "\n"
     ]
    }
   ],
   "source": [
    "import redis\n",
    "import os\n",
    "from deepface import DeepFace \n",
    "import numpy as np\n",
    "from tqdm import tqdm\n",
    "from deepface.commons import functions\n",
    "from scipy.spatial.distance import cosine\n",
    "import matplotlib.pyplot as plt"
   ]
  },
  {
   "cell_type": "code",
   "execution_count": 2,
   "metadata": {},
   "outputs": [],
   "source": [
    "rep = []\n",
    "labels = []\n",
    "for dirpath, dirnames, filenames in os.walk('E:\\\\tf_openpose\\\\5celeb\\\\data\\\\train\\\\'):\n",
    "    for filename in filenames:\n",
    "        img_path = f\"{dirpath}\\\\{filename}\"\n",
    "        if  \".jpg\" or \".png\" in img_path:\n",
    "            embedding_obj = DeepFace.represent(\n",
    "                img_path=img_path,\n",
    "                model_name=\"ArcFace\",\n",
    "                enforce_detection=False\n",
    "            )\n",
    "            embedding = embedding_obj[0][\"embedding\"]\n",
    "            label = os.path.basename(dirpath)\n",
    "            rep.append((img_path, embedding))\n",
    "            labels.append(label)\n"
   ]
  },
  {
   "cell_type": "code",
   "execution_count": 3,
   "metadata": {},
   "outputs": [
    {
     "data": {
      "text/html": [
       "<div>\n",
       "<style scoped>\n",
       "    .dataframe tbody tr th:only-of-type {\n",
       "        vertical-align: middle;\n",
       "    }\n",
       "\n",
       "    .dataframe tbody tr th {\n",
       "        vertical-align: top;\n",
       "    }\n",
       "\n",
       "    .dataframe thead th {\n",
       "        text-align: right;\n",
       "    }\n",
       "</style>\n",
       "<table border=\"1\" class=\"dataframe\">\n",
       "  <thead>\n",
       "    <tr style=\"text-align: right;\">\n",
       "      <th></th>\n",
       "      <th>url</th>\n",
       "      <th>vector</th>\n",
       "      <th>id</th>\n",
       "      <th>labels</th>\n",
       "    </tr>\n",
       "  </thead>\n",
       "  <tbody>\n",
       "    <tr>\n",
       "      <th>0</th>\n",
       "      <td>E:\\tf_openpose\\5celeb\\data\\train\\ben_afflek\\ht...</td>\n",
       "      <td>[-0.3078286647796631, 0.6858863830566406, -0.0...</td>\n",
       "      <td>0</td>\n",
       "      <td>ben_afflek</td>\n",
       "    </tr>\n",
       "    <tr>\n",
       "      <th>1</th>\n",
       "      <td>E:\\tf_openpose\\5celeb\\data\\train\\ben_afflek\\ht...</td>\n",
       "      <td>[-0.030019249767065048, -0.05606715381145477, ...</td>\n",
       "      <td>1</td>\n",
       "      <td>ben_afflek</td>\n",
       "    </tr>\n",
       "    <tr>\n",
       "      <th>2</th>\n",
       "      <td>E:\\tf_openpose\\5celeb\\data\\train\\ben_afflek\\ht...</td>\n",
       "      <td>[0.14424189925193787, 0.01635141484439373, 0.1...</td>\n",
       "      <td>2</td>\n",
       "      <td>ben_afflek</td>\n",
       "    </tr>\n",
       "    <tr>\n",
       "      <th>3</th>\n",
       "      <td>E:\\tf_openpose\\5celeb\\data\\train\\ben_afflek\\ht...</td>\n",
       "      <td>[-0.15198102593421936, 0.1615729033946991, 0.0...</td>\n",
       "      <td>3</td>\n",
       "      <td>ben_afflek</td>\n",
       "    </tr>\n",
       "    <tr>\n",
       "      <th>4</th>\n",
       "      <td>E:\\tf_openpose\\5celeb\\data\\train\\ben_afflek\\ht...</td>\n",
       "      <td>[0.247961163520813, 0.03352166339755058, -0.00...</td>\n",
       "      <td>4</td>\n",
       "      <td>ben_afflek</td>\n",
       "    </tr>\n",
       "    <tr>\n",
       "      <th>...</th>\n",
       "      <td>...</td>\n",
       "      <td>...</td>\n",
       "      <td>...</td>\n",
       "      <td>...</td>\n",
       "    </tr>\n",
       "    <tr>\n",
       "      <th>109</th>\n",
       "      <td>E:\\tf_openpose\\5celeb\\data\\train\\mindy_kaling\\...</td>\n",
       "      <td>[-0.031962521374225616, 0.35589727759361267, 0...</td>\n",
       "      <td>109</td>\n",
       "      <td>mindy_kaling</td>\n",
       "    </tr>\n",
       "    <tr>\n",
       "      <th>110</th>\n",
       "      <td>E:\\tf_openpose\\5celeb\\data\\train\\mindy_kaling\\...</td>\n",
       "      <td>[0.06394591182470322, 0.4917104244232178, 0.21...</td>\n",
       "      <td>110</td>\n",
       "      <td>mindy_kaling</td>\n",
       "    </tr>\n",
       "    <tr>\n",
       "      <th>111</th>\n",
       "      <td>E:\\tf_openpose\\5celeb\\data\\train\\mindy_kaling\\...</td>\n",
       "      <td>[-0.06867343187332153, 0.37567126750946045, 0....</td>\n",
       "      <td>111</td>\n",
       "      <td>mindy_kaling</td>\n",
       "    </tr>\n",
       "    <tr>\n",
       "      <th>112</th>\n",
       "      <td>E:\\tf_openpose\\5celeb\\data\\train\\mindy_kaling\\...</td>\n",
       "      <td>[0.18796458840370178, 0.23716022074222565, 0.1...</td>\n",
       "      <td>112</td>\n",
       "      <td>mindy_kaling</td>\n",
       "    </tr>\n",
       "    <tr>\n",
       "      <th>113</th>\n",
       "      <td>E:\\tf_openpose\\5celeb\\data\\train\\mindy_kaling\\...</td>\n",
       "      <td>[0.04558563232421875, 0.626192033290863, 0.311...</td>\n",
       "      <td>113</td>\n",
       "      <td>mindy_kaling</td>\n",
       "    </tr>\n",
       "  </tbody>\n",
       "</table>\n",
       "<p>114 rows × 4 columns</p>\n",
       "</div>"
      ],
      "text/plain": [
       "                                                   url  \\\n",
       "0    E:\\tf_openpose\\5celeb\\data\\train\\ben_afflek\\ht...   \n",
       "1    E:\\tf_openpose\\5celeb\\data\\train\\ben_afflek\\ht...   \n",
       "2    E:\\tf_openpose\\5celeb\\data\\train\\ben_afflek\\ht...   \n",
       "3    E:\\tf_openpose\\5celeb\\data\\train\\ben_afflek\\ht...   \n",
       "4    E:\\tf_openpose\\5celeb\\data\\train\\ben_afflek\\ht...   \n",
       "..                                                 ...   \n",
       "109  E:\\tf_openpose\\5celeb\\data\\train\\mindy_kaling\\...   \n",
       "110  E:\\tf_openpose\\5celeb\\data\\train\\mindy_kaling\\...   \n",
       "111  E:\\tf_openpose\\5celeb\\data\\train\\mindy_kaling\\...   \n",
       "112  E:\\tf_openpose\\5celeb\\data\\train\\mindy_kaling\\...   \n",
       "113  E:\\tf_openpose\\5celeb\\data\\train\\mindy_kaling\\...   \n",
       "\n",
       "                                                vector   id        labels  \n",
       "0    [-0.3078286647796631, 0.6858863830566406, -0.0...    0    ben_afflek  \n",
       "1    [-0.030019249767065048, -0.05606715381145477, ...    1    ben_afflek  \n",
       "2    [0.14424189925193787, 0.01635141484439373, 0.1...    2    ben_afflek  \n",
       "3    [-0.15198102593421936, 0.1615729033946991, 0.0...    3    ben_afflek  \n",
       "4    [0.247961163520813, 0.03352166339755058, -0.00...    4    ben_afflek  \n",
       "..                                                 ...  ...           ...  \n",
       "109  [-0.031962521374225616, 0.35589727759361267, 0...  109  mindy_kaling  \n",
       "110  [0.06394591182470322, 0.4917104244232178, 0.21...  110  mindy_kaling  \n",
       "111  [-0.06867343187332153, 0.37567126750946045, 0....  111  mindy_kaling  \n",
       "112  [0.18796458840370178, 0.23716022074222565, 0.1...  112  mindy_kaling  \n",
       "113  [0.04558563232421875, 0.626192033290863, 0.311...  113  mindy_kaling  \n",
       "\n",
       "[114 rows x 4 columns]"
      ]
     },
     "execution_count": 3,
     "metadata": {},
     "output_type": "execute_result"
    }
   ],
   "source": [
    "from redis.commands.search.field import TagField, VectorField, TextField\n",
    "from redis.commands.search.indexDefinition import IndexDefinition, IndexType\n",
    "from redis.commands.search.query import Query\n",
    "\n",
    "from ast import literal_eval\n",
    "from typing import List, Iterator\n",
    "import pandas as pd\n",
    "import time\n",
    "\n",
    "\n",
    "article_df = pd.DataFrame(rep, columns=['url', 'vector'])\n",
    "article_df['id'] = np.arange(0, len(article_df))\n",
    "article_df['labels'] = labels\n",
    "article_df"
   ]
  },
  {
   "cell_type": "code",
   "execution_count": 4,
   "metadata": {},
   "outputs": [],
   "source": [
    "REDIS_HOST =  \"localhost\"\n",
    "REDIS_PORT = 6379\n",
    "REDIS_PASSWORD = \"\" # default for passwordless Redis\n",
    "\n",
    "# Connect to Redis\n",
    "r = redis.Redis(\n",
    "    host=REDIS_HOST,\n",
    "    port=REDIS_PORT,\n",
    "    password=REDIS_PASSWORD\n",
    ")"
   ]
  },
  {
   "cell_type": "code",
   "execution_count": 18,
   "metadata": {},
   "outputs": [
    {
     "data": {
      "text/plain": [
       "['E:\\\\tf_openpose\\\\5celeb\\\\data\\\\train\\\\cdchu2\\\\2023-12-06-17-28-11.jpg',\n",
       " 'E:\\\\tf_openpose\\\\5celeb\\\\data\\\\train\\\\cdchu2\\\\2023-12-06-17-28-21.jpg',\n",
       " 'E:\\\\tf_openpose\\\\5celeb\\\\data\\\\train\\\\cdchu2\\\\2023-12-06-17-28-26.jpg',\n",
       " 'E:\\\\tf_openpose\\\\5celeb\\\\data\\\\train\\\\cdchu2\\\\2023-12-06-17-28-31.jpg',\n",
       " 'E:\\\\tf_openpose\\\\5celeb\\\\data\\\\train\\\\cdchu2\\\\2023-12-06-17-28-32.jpg',\n",
       " 'E:\\\\tf_openpose\\\\5celeb\\\\data\\\\train\\\\cdchu2\\\\IMG_2880.png',\n",
       " 'E:\\\\tf_openpose\\\\5celeb\\\\data\\\\train\\\\cdchu2\\\\IMG_2885.png',\n",
       " 'E:\\\\tf_openpose\\\\5celeb\\\\data\\\\train\\\\cdchu2\\\\IMG_2895.png',\n",
       " 'E:\\\\tf_openpose\\\\5celeb\\\\data\\\\train\\\\cdchu2\\\\IMG_3275.png',\n",
       " 'E:\\\\tf_openpose\\\\5celeb\\\\data\\\\train\\\\cdchu2\\\\IMG_3276.png']"
      ]
     },
     "execution_count": 18,
     "metadata": {},
     "output_type": "execute_result"
    }
   ],
   "source": [
    "INDEX_NAME = 'embeddings-index'\n",
    "doc_ = r.ft(INDEX_NAME).search('cdchu2').docs\n",
    "vector_ = [doc.url for i, doc in enumerate(doc_)]\n",
    "vector_"
   ]
  },
  {
   "cell_type": "code",
   "execution_count": 19,
   "metadata": {},
   "outputs": [],
   "source": [
    "from PIL import Image\n",
    "image = Image.open('E:\\\\tf_openpose\\\\5celeb\\\\data\\\\train\\\\cdchu2\\\\2023-12-06-17-28-11.jpg')\n"
   ]
  },
  {
   "cell_type": "code",
   "execution_count": 16,
   "metadata": {},
   "outputs": [
    {
     "ename": "AttributeError",
     "evalue": "type object 'DataFrame' has no attribute 'to_msgpack'",
     "output_type": "error",
     "traceback": [
      "\u001b[1;31m---------------------------------------------------------------------------\u001b[0m",
      "\u001b[1;31mAttributeError\u001b[0m                            Traceback (most recent call last)",
      "Cell \u001b[1;32mIn[16], line 3\u001b[0m\n\u001b[0;32m      1\u001b[0m \u001b[38;5;28;01mimport\u001b[39;00m \u001b[38;5;21;01mzlib\u001b[39;00m\n\u001b[0;32m      2\u001b[0m \u001b[38;5;28;01mimport\u001b[39;00m \u001b[38;5;21;01mpickle\u001b[39;00m\n\u001b[1;32m----> 3\u001b[0m r\u001b[38;5;241m.\u001b[39mset(\u001b[38;5;124m\"\u001b[39m\u001b[38;5;124mkey\u001b[39m\u001b[38;5;124m\"\u001b[39m, \u001b[43mpd\u001b[49m\u001b[38;5;241;43m.\u001b[39;49m\u001b[43mDataFrame\u001b[49m\u001b[38;5;241;43m.\u001b[39;49m\u001b[43mto_msgpack\u001b[49m()(compress\u001b[38;5;241m=\u001b[39m\u001b[38;5;124m'\u001b[39m\u001b[38;5;124mzlib\u001b[39m\u001b[38;5;124m'\u001b[39m))\n",
      "\u001b[1;31mAttributeError\u001b[0m: type object 'DataFrame' has no attribute 'to_msgpack'"
     ]
    }
   ],
   "source": [
    "import zlib\n",
    "import pickle\n",
    "r.set(\"key\", pd.DataFrame.to_msgpack()(compress='zlib'))\n",
    "pd.read_msgpack(redisConn.get(\"key\"))\n"
   ]
  },
  {
   "cell_type": "code",
   "execution_count": 14,
   "metadata": {},
   "outputs": [],
   "source": []
  }
 ],
 "metadata": {
  "kernelspec": {
   "display_name": "Python 3.9.18 ('stenv')",
   "language": "python",
   "name": "python3"
  },
  "language_info": {
   "codemirror_mode": {
    "name": "ipython",
    "version": 3
   },
   "file_extension": ".py",
   "mimetype": "text/x-python",
   "name": "python",
   "nbconvert_exporter": "python",
   "pygments_lexer": "ipython3",
   "version": "3.9.18"
  },
  "orig_nbformat": 4,
  "vscode": {
   "interpreter": {
    "hash": "f57e28d9d176b8a2f1aae204504e06db7eaf5475fe1697e4c22bce44ef661706"
   }
  }
 },
 "nbformat": 4,
 "nbformat_minor": 2
}
